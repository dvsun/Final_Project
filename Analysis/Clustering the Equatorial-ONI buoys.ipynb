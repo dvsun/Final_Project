{
 "cells": [
  {
   "cell_type": "markdown",
   "metadata": {},
   "source": [
    "## The Pacific region named Niño 3.4 (5N-5S, 170W-120W) is used to define the Sea Surface Temperatures (SST) anomalies that defines a el Niño event. Moreover, the Oceanic Niño Index (ONI) is calculated based on the data of this region.  \n",
    "\n",
    "## In order to simplify our analysis we are only going to take the observations close to the equator (0.5N-0.5S, 170W-120W). We store this values in a new .csv called ONI simplified region\n",
    " \n"
   ]
  },
  {
   "cell_type": "markdown",
   "metadata": {},
   "source": [
    "### Import libraries"
   ]
  },
  {
   "cell_type": "code",
   "execution_count": 2,
   "metadata": {
    "ExecuteTime": {
     "end_time": "2019-04-23T08:20:26.246729Z",
     "start_time": "2019-04-23T08:20:25.290700Z"
    }
   },
   "outputs": [
    {
     "data": {
      "text/html": [
       "<script type=\"text/javascript\">window.PlotlyConfig = {MathJaxConfig: 'local'};</script><script type=\"text/javascript\">if (window.MathJax) {MathJax.Hub.Config({SVG: {font: \"STIX-Web\"}});}</script><script>requirejs.config({paths: { 'plotly': ['https://cdn.plot.ly/plotly-latest.min']},});if(!window._Plotly) {require(['plotly'],function(plotly) {window._Plotly=plotly;});}</script>"
      ],
      "text/vnd.plotly.v1+html": [
       "<script type=\"text/javascript\">window.PlotlyConfig = {MathJaxConfig: 'local'};</script><script type=\"text/javascript\">if (window.MathJax) {MathJax.Hub.Config({SVG: {font: \"STIX-Web\"}});}</script><script>requirejs.config({paths: { 'plotly': ['https://cdn.plot.ly/plotly-latest.min']},});if(!window._Plotly) {require(['plotly'],function(plotly) {window._Plotly=plotly;});}</script>"
      ]
     },
     "metadata": {},
     "output_type": "display_data"
    }
   ],
   "source": [
    "import pandas as pd\n",
    "import numpy as np\n",
    "\n",
    "import seaborn as sns\n",
    "import matplotlib.pyplot as plt\n",
    "import plotly.plotly as py\n",
    "import plotly.graph_objs as go\n",
    "import cufflinks as cf\n",
    "cf.go_offline()\n",
    "\n",
    "from sklearn.cluster import DBSCAN\n",
    "from sklearn.metrics import silhouette_score\n"
   ]
  },
  {
   "cell_type": "markdown",
   "metadata": {},
   "source": [
    "### Check the data"
   ]
  },
  {
   "cell_type": "code",
   "execution_count": 3,
   "metadata": {
    "ExecuteTime": {
     "end_time": "2019-04-23T08:20:26.413921Z",
     "start_time": "2019-04-23T08:20:26.254752Z"
    }
   },
   "outputs": [],
   "source": [
    "data = pd.read_csv('../Data/enso_data_cleaned.csv')\n",
    "data['date'] = pd.to_datetime(data['date'])"
   ]
  },
  {
   "cell_type": "code",
   "execution_count": 4,
   "metadata": {
    "ExecuteTime": {
     "end_time": "2019-04-23T08:20:27.896643Z",
     "start_time": "2019-04-23T08:20:27.885524Z"
    }
   },
   "outputs": [
    {
     "data": {
      "text/html": [
       "<div>\n",
       "<style scoped>\n",
       "    .dataframe tbody tr th:only-of-type {\n",
       "        vertical-align: middle;\n",
       "    }\n",
       "\n",
       "    .dataframe tbody tr th {\n",
       "        vertical-align: top;\n",
       "    }\n",
       "\n",
       "    .dataframe thead th {\n",
       "        text-align: right;\n",
       "    }\n",
       "</style>\n",
       "<table border=\"1\" class=\"dataframe\">\n",
       "  <thead>\n",
       "    <tr style=\"text-align: right;\">\n",
       "      <th></th>\n",
       "      <th>obs</th>\n",
       "      <th>year</th>\n",
       "      <th>month</th>\n",
       "      <th>day</th>\n",
       "      <th>date</th>\n",
       "      <th>latitude</th>\n",
       "      <th>longitude</th>\n",
       "      <th>zon.winds</th>\n",
       "      <th>mer.winds</th>\n",
       "      <th>humidity</th>\n",
       "      <th>air temp.</th>\n",
       "      <th>s.s.temp.</th>\n",
       "    </tr>\n",
       "  </thead>\n",
       "  <tbody>\n",
       "    <tr>\n",
       "      <th>0</th>\n",
       "      <td>1</td>\n",
       "      <td>1980</td>\n",
       "      <td>3</td>\n",
       "      <td>7</td>\n",
       "      <td>1980-03-07</td>\n",
       "      <td>-0.02</td>\n",
       "      <td>-109.46</td>\n",
       "      <td>-6.8</td>\n",
       "      <td>0.7</td>\n",
       "      <td>NaN</td>\n",
       "      <td>26.14</td>\n",
       "      <td>26.24</td>\n",
       "    </tr>\n",
       "    <tr>\n",
       "      <th>1</th>\n",
       "      <td>2</td>\n",
       "      <td>1980</td>\n",
       "      <td>3</td>\n",
       "      <td>8</td>\n",
       "      <td>1980-03-08</td>\n",
       "      <td>-0.02</td>\n",
       "      <td>-109.46</td>\n",
       "      <td>-4.9</td>\n",
       "      <td>1.1</td>\n",
       "      <td>NaN</td>\n",
       "      <td>25.66</td>\n",
       "      <td>25.97</td>\n",
       "    </tr>\n",
       "    <tr>\n",
       "      <th>2</th>\n",
       "      <td>3</td>\n",
       "      <td>1980</td>\n",
       "      <td>3</td>\n",
       "      <td>9</td>\n",
       "      <td>1980-03-09</td>\n",
       "      <td>-0.02</td>\n",
       "      <td>-109.46</td>\n",
       "      <td>-4.5</td>\n",
       "      <td>2.2</td>\n",
       "      <td>NaN</td>\n",
       "      <td>25.69</td>\n",
       "      <td>25.28</td>\n",
       "    </tr>\n",
       "    <tr>\n",
       "      <th>3</th>\n",
       "      <td>4</td>\n",
       "      <td>1980</td>\n",
       "      <td>3</td>\n",
       "      <td>10</td>\n",
       "      <td>1980-03-10</td>\n",
       "      <td>-0.02</td>\n",
       "      <td>-109.46</td>\n",
       "      <td>-3.8</td>\n",
       "      <td>1.9</td>\n",
       "      <td>NaN</td>\n",
       "      <td>25.57</td>\n",
       "      <td>24.31</td>\n",
       "    </tr>\n",
       "    <tr>\n",
       "      <th>4</th>\n",
       "      <td>5</td>\n",
       "      <td>1980</td>\n",
       "      <td>3</td>\n",
       "      <td>11</td>\n",
       "      <td>1980-03-11</td>\n",
       "      <td>-0.02</td>\n",
       "      <td>-109.46</td>\n",
       "      <td>-4.2</td>\n",
       "      <td>1.5</td>\n",
       "      <td>NaN</td>\n",
       "      <td>25.30</td>\n",
       "      <td>23.19</td>\n",
       "    </tr>\n",
       "  </tbody>\n",
       "</table>\n",
       "</div>"
      ],
      "text/plain": [
       "   obs  year  month  day       date  latitude  longitude  zon.winds  \\\n",
       "0    1  1980      3    7 1980-03-07     -0.02    -109.46       -6.8   \n",
       "1    2  1980      3    8 1980-03-08     -0.02    -109.46       -4.9   \n",
       "2    3  1980      3    9 1980-03-09     -0.02    -109.46       -4.5   \n",
       "3    4  1980      3   10 1980-03-10     -0.02    -109.46       -3.8   \n",
       "4    5  1980      3   11 1980-03-11     -0.02    -109.46       -4.2   \n",
       "\n",
       "   mer.winds  humidity  air temp.  s.s.temp.  \n",
       "0        0.7       NaN      26.14      26.24  \n",
       "1        1.1       NaN      25.66      25.97  \n",
       "2        2.2       NaN      25.69      25.28  \n",
       "3        1.9       NaN      25.57      24.31  \n",
       "4        1.5       NaN      25.30      23.19  "
      ]
     },
     "execution_count": 4,
     "metadata": {},
     "output_type": "execute_result"
    }
   ],
   "source": [
    "data.head()"
   ]
  },
  {
   "cell_type": "code",
   "execution_count": 5,
   "metadata": {
    "ExecuteTime": {
     "end_time": "2019-04-23T08:20:28.510093Z",
     "start_time": "2019-04-23T08:20:28.481147Z"
    }
   },
   "outputs": [
    {
     "name": "stdout",
     "output_type": "stream",
     "text": [
      "<class 'pandas.core.frame.DataFrame'>\n",
      "RangeIndex: 178080 entries, 0 to 178079\n",
      "Data columns (total 12 columns):\n",
      "obs          178080 non-null int64\n",
      "year         178080 non-null int64\n",
      "month        178080 non-null int64\n",
      "day          178080 non-null int64\n",
      "date         178080 non-null datetime64[ns]\n",
      "latitude     178080 non-null float64\n",
      "longitude    178080 non-null float64\n",
      "zon.winds    152917 non-null float64\n",
      "mer.winds    152918 non-null float64\n",
      "humidity     112319 non-null float64\n",
      "air temp.    159843 non-null float64\n",
      "s.s.temp.    161073 non-null float64\n",
      "dtypes: datetime64[ns](1), float64(7), int64(4)\n",
      "memory usage: 16.3 MB\n"
     ]
    }
   ],
   "source": [
    "data.info()"
   ]
  },
  {
   "cell_type": "markdown",
   "metadata": {
    "ExecuteTime": {
     "end_time": "2019-04-20T16:37:15.098426Z",
     "start_time": "2019-04-20T16:37:15.092368Z"
    }
   },
   "source": [
    "### We plot the observations that are contain in the interest region (0.5N-0.5S, 170W-120W)."
   ]
  },
  {
   "cell_type": "code",
   "execution_count": 16,
   "metadata": {
    "ExecuteTime": {
     "end_time": "2019-04-23T08:22:27.856821Z",
     "start_time": "2019-04-23T08:22:27.851221Z"
    }
   },
   "outputs": [],
   "source": [
    "oni_simpl_region = data[(data['latitude'] < 0.5) & (data['latitude'] > -0.5) & (data['longitude'] > -170) & (data['longitude'] < -120)]"
   ]
  },
  {
   "cell_type": "code",
   "execution_count": 17,
   "metadata": {
    "ExecuteTime": {
     "end_time": "2019-04-23T08:22:29.063290Z",
     "start_time": "2019-04-23T08:22:29.059812Z"
    }
   },
   "outputs": [
    {
     "data": {
      "text/plain": [
       "(13080, 12)"
      ]
     },
     "execution_count": 17,
     "metadata": {},
     "output_type": "execute_result"
    }
   ],
   "source": [
    "oni_simpl_region.shape"
   ]
  },
  {
   "cell_type": "code",
   "execution_count": 18,
   "metadata": {
    "ExecuteTime": {
     "end_time": "2019-04-23T08:22:30.134644Z",
     "start_time": "2019-04-23T08:22:29.291246Z"
    },
    "scrolled": false
   },
   "outputs": [
    {
     "data": {
      "text/plain": [
       "<matplotlib.axes._subplots.AxesSubplot at 0x7f194062c710>"
      ]
     },
     "execution_count": 18,
     "metadata": {},
     "output_type": "execute_result"
    },
    {
     "data": {
      "image/png": "[encoded data removed]",
      "text/plain": [
       "<Figure size 1440x720 with 1 Axes>"
      ]
     },
     "metadata": {
      "needs_background": "light"
     },
     "output_type": "display_data"
    }
   ],
   "source": [
    "fig, ax = plt.subplots(figsize=(20, 10))\n",
    "sns.scatterplot(x=oni_simpl_region['longitude'], y=oni_simpl_region['latitude'], hue=oni_simpl_region['year'],legend= 'full', palette='Set2' )"
   ]
  },
  {
   "cell_type": "code",
   "execution_count": null,
   "metadata": {},
   "outputs": [],
   "source": []
  },
  {
   "cell_type": "markdown",
   "metadata": {},
   "source": [
    "### We use DBSCAN method from sklearn to cluster our observations. Each cluster will correspond to one different buoy."
   ]
  },
  {
   "cell_type": "markdown",
   "metadata": {
    "ExecuteTime": {
     "end_time": "2019-04-20T16:32:20.570422Z",
     "start_time": "2019-04-20T16:32:20.564851Z"
    }
   },
   "source": [
    "#### We will cluster the observations in base of their location. Thus, we define X with the longitude and latitude."
   ]
  },
  {
   "cell_type": "code",
   "execution_count": 27,
   "metadata": {
    "ExecuteTime": {
     "end_time": "2019-04-23T08:24:18.847907Z",
     "start_time": "2019-04-23T08:24:18.838873Z"
    }
   },
   "outputs": [],
   "source": [
    "X = oni_simpl_region[['latitude', 'longitude']]"
   ]
  },
  {
   "cell_type": "markdown",
   "metadata": {},
   "source": [
    "#### We set the most important parameters for DBSCAN"
   ]
  },
  {
   "cell_type": "code",
   "execution_count": 28,
   "metadata": {
    "ExecuteTime": {
     "end_time": "2019-04-23T08:24:19.751063Z",
     "start_time": "2019-04-23T08:24:19.748817Z"
    }
   },
   "outputs": [],
   "source": [
    "eps = 1.8\n",
    "# The maximum distance between two samples for them to be considered as in the same neighborhood.\n",
    "\n",
    "min_samples = 200\n",
    "# The number of samples (or total weight) in a neighborhood for a point to be considered as a core point. This includes the point itself.\n",
    "\n",
    "n_jobs = -1\n",
    "# The number of parallel jobs to run. None means 1 unless in a joblib.parallel_backend context. -1 means using all processors."
   ]
  },
  {
   "cell_type": "markdown",
   "metadata": {},
   "source": [
    "#### We initialize and fit the model"
   ]
  },
  {
   "cell_type": "code",
   "execution_count": 29,
   "metadata": {
    "ExecuteTime": {
     "end_time": "2019-04-23T08:24:20.479237Z",
     "start_time": "2019-04-23T08:24:20.190557Z"
    }
   },
   "outputs": [
    {
     "data": {
      "text/plain": [
       "DBSCAN(algorithm='auto', eps=1.8, leaf_size=30, metric='euclidean',\n",
       "    metric_params=None, min_samples=200, n_jobs=-1, p=None)"
      ]
     },
     "execution_count": 29,
     "metadata": {},
     "output_type": "execute_result"
    }
   ],
   "source": [
    "dbs = DBSCAN(eps = eps, min_samples= min_samples, n_jobs= n_jobs)\n",
    "dbs.fit(X)"
   ]
  },
  {
   "cell_type": "markdown",
   "metadata": {},
   "source": [
    "#### We evaluate the model using the Silhouette score."
   ]
  },
  {
   "cell_type": "code",
   "execution_count": 30,
   "metadata": {
    "ExecuteTime": {
     "end_time": "2019-04-23T08:24:20.565357Z",
     "start_time": "2019-04-23T08:24:20.563783Z"
    }
   },
   "outputs": [],
   "source": [
    "# A silhouette score ranges from -1 to 1, with -1 being the worst score possible and 1 being the best score. Silhouette scores of 0 suggest overlapping clusters.\n",
    "# silhouette_score(X, dbs.labels_, sample_size= 50000)"
   ]
  },
  {
   "cell_type": "code",
   "execution_count": null,
   "metadata": {},
   "outputs": [],
   "source": []
  },
  {
   "cell_type": "markdown",
   "metadata": {},
   "source": [
    "#### We add the labels from DBSCAN to a new column in the dataset."
   ]
  },
  {
   "cell_type": "code",
   "execution_count": 31,
   "metadata": {
    "ExecuteTime": {
     "end_time": "2019-04-23T08:24:21.081418Z",
     "start_time": "2019-04-23T08:24:21.072150Z"
    }
   },
   "outputs": [],
   "source": [
    "oni_simpl_region['buoy_label'] = dbs.labels_"
   ]
  },
  {
   "cell_type": "code",
   "execution_count": 32,
   "metadata": {
    "ExecuteTime": {
     "end_time": "2019-04-23T08:24:21.255062Z",
     "start_time": "2019-04-23T08:24:21.250380Z"
    }
   },
   "outputs": [
    {
     "data": {
      "text/plain": [
       "4"
      ]
     },
     "execution_count": 32,
     "metadata": {},
     "output_type": "execute_result"
    }
   ],
   "source": [
    "len(oni_simpl_region['buoy_label'].unique())"
   ]
  },
  {
   "cell_type": "code",
   "execution_count": 34,
   "metadata": {
    "ExecuteTime": {
     "end_time": "2019-04-23T08:24:21.701341Z",
     "start_time": "2019-04-23T08:24:21.690080Z"
    }
   },
   "outputs": [
    {
     "data": {
      "text/plain": [
       "1    4820\n",
       "0    4483\n",
       "2    2520\n",
       "3    1257\n",
       "Name: buoy_label, dtype: int64"
      ]
     },
     "execution_count": 34,
     "metadata": {},
     "output_type": "execute_result"
    }
   ],
   "source": [
    "oni_simpl_region['buoy_label'].value_counts().head()"
   ]
  },
  {
   "cell_type": "markdown",
   "metadata": {
    "ExecuteTime": {
     "end_time": "2019-04-20T16:37:15.098426Z",
     "start_time": "2019-04-20T16:37:15.092368Z"
    }
   },
   "source": [
    "#### We plot the coordinates together with the label."
   ]
  },
  {
   "cell_type": "code",
   "execution_count": 35,
   "metadata": {
    "ExecuteTime": {
     "end_time": "2019-04-23T08:24:23.108357Z",
     "start_time": "2019-04-23T08:24:22.373525Z"
    }
   },
   "outputs": [
    {
     "data": {
      "text/plain": [
       "<matplotlib.axes._subplots.AxesSubplot at 0x7f19403067b8>"
      ]
     },
     "execution_count": 35,
     "metadata": {},
     "output_type": "execute_result"
    },
    {
     "data": {
      "image/png": "[encoded data removed]",
      "text/plain": [
       "<Figure size 1440x720 with 1 Axes>"
      ]
     },
     "metadata": {
      "needs_background": "light"
     },
     "output_type": "display_data"
    }
   ],
   "source": [
    "location = oni_simpl_region[['latitude', 'longitude', 'buoy_label']]\n",
    "\n",
    "x = location['longitude']\n",
    "y = location['latitude']\n",
    "hue = location['buoy_label']\n",
    "\n",
    "\n",
    "###plot\n",
    "\n",
    "fig, ax = plt.subplots(figsize=(20, 10))\n",
    "\n",
    "# Label to each color\n",
    "color_labels = hue.unique()\n",
    "\n",
    "# List of RGB triplets\n",
    "rgb_values = sns.color_palette(\"Set2\", len(color_labels))\n",
    "\n",
    "# Map label to RGB\n",
    "color = dict(zip(color_labels, rgb_values))\n",
    "\n",
    "\n",
    "sns.scatterplot(x, y,  hue = hue, palette = color, legend= 'full')"
   ]
  },
  {
   "cell_type": "code",
   "execution_count": null,
   "metadata": {},
   "outputs": [],
   "source": []
  },
  {
   "cell_type": "code",
   "execution_count": null,
   "metadata": {},
   "outputs": [],
   "source": []
  },
  {
   "cell_type": "markdown",
   "metadata": {},
   "source": [
    "### We save our results in a .csv"
   ]
  },
  {
   "cell_type": "code",
   "execution_count": 37,
   "metadata": {
    "ExecuteTime": {
     "end_time": "2019-04-23T08:34:55.990411Z",
     "start_time": "2019-04-23T08:34:55.854601Z"
    }
   },
   "outputs": [],
   "source": [
    "oni_simpl_region.to_csv('../Data/Oni_simplified_region_label.csv', index= False)"
   ]
  },
  {
   "cell_type": "code",
   "execution_count": null,
   "metadata": {},
   "outputs": [],
   "source": []
  }
 ],
 "metadata": {
  "kernelspec": {
   "display_name": "Python 3",
   "language": "python",
   "name": "python3"
  },
  "language_info": {
   "codemirror_mode": {
    "name": "ipython",
    "version": 3
   },
   "file_extension": ".py",
   "mimetype": "text/x-python",
   "name": "python",
   "nbconvert_exporter": "python",
   "pygments_lexer": "ipython3",
   "version": "3.7.1"
  },
  "varInspector": {
   "cols": {
    "lenName": 16,
    "lenType": 16,
    "lenVar": 40
   },
   "kernels_config": {
    "python": {
     "delete_cmd_postfix": "",
     "delete_cmd_prefix": "del ",
     "library": "var_list.py",
     "varRefreshCmd": "print(var_dic_list())"
    },
    "r": {
     "delete_cmd_postfix": ") ",
     "delete_cmd_prefix": "rm(",
     "library": "var_list.r",
     "varRefreshCmd": "cat(var_dic_list()) "
    }
   },
   "types_to_exclude": [
    "module",
    "function",
    "builtin_function_or_method",
    "instance",
    "_Feature"
   ],
   "window_display": false
  }
 },
 "nbformat": 4,
 "nbformat_minor": 2
}
